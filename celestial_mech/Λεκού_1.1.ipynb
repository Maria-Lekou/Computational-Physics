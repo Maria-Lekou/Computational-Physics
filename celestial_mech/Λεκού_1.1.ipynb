{
 "cells": [
  {
   "cell_type": "markdown",
   "id": "a1e936d0",
   "metadata": {},
   "source": [
    "# Άσκηση 1"
   ]
  },
  {
   "cell_type": "markdown",
   "id": "2dce1cd0",
   "metadata": {},
   "source": [
    "### Ερώτημα α"
   ]
  },
  {
   "cell_type": "markdown",
   "id": "af77b84c",
   "metadata": {},
   "source": [
    "Λαμβάνουμε υπόψην μόνο την επίδραση της Γης."
   ]
  },
  {
   "cell_type": "code",
   "execution_count": 1,
   "id": "df18f77f",
   "metadata": {},
   "outputs": [],
   "source": [
    "import numpy as np\n",
    "from scipy.integrate import solve_ivp\n",
    "import matplotlib.pylab as plt"
   ]
  },
  {
   "cell_type": "markdown",
   "id": "8e93ef8b",
   "metadata": {},
   "source": [
    "Μας δίνονται τα εξής στοιχέια:"
   ]
  },
  {
   "cell_type": "code",
   "execution_count": 2,
   "id": "27eae7f9",
   "metadata": {},
   "outputs": [],
   "source": [
    "mu=3.986*10**5 #km^3/s^2\n",
    "md=400*10**3 #kg\n",
    "S=8000*10**(-6) #km^2\n",
    "H=400 #km\n",
    "Rearth=6371 #km\n",
    "a=H+Rearth #km\n",
    "N=6000"
   ]
  },
  {
   "cell_type": "markdown",
   "id": "ebf17096",
   "metadata": {},
   "source": [
    "Το πρόβλημα των δυο σωμάτων χωρίς διαταραχές:"
   ]
  },
  {
   "cell_type": "code",
   "execution_count": 3,
   "id": "d3f6b7be",
   "metadata": {},
   "outputs": [],
   "source": [
    "def rhs_2bd(t,X):\n",
    "    x,y,vx,vy=X\n",
    "    r=np.sqrt(x*x+y*y)\n",
    "    x_dot=vx\n",
    "    y_dot=vy\n",
    "    vx_dot=-mu*x/r**3\n",
    "    vy_dot=-mu*y/r**3\n",
    "    return [x_dot,y_dot,vx_dot,vy_dot]"
   ]
  },
  {
   "cell_type": "markdown",
   "id": "8a328bb1",
   "metadata": {},
   "source": [
    "Η λύση του συστήματος:"
   ]
  },
  {
   "cell_type": "code",
   "execution_count": 4,
   "id": "ce5a9314",
   "metadata": {},
   "outputs": [
    {
     "data": {
      "image/png": "[encoded data removed]",
      "text/plain": [
       "<Figure size 432x288 with 1 Axes>"
      ]
     },
     "metadata": {
      "needs_background": "light"
     },
     "output_type": "display_data"
    }
   ],
   "source": [
    "T=2*np.pi*np.sqrt(a**3/mu) #s\n",
    "t0=0\n",
    "tmax=N*T\n",
    "IC=[0,a,-np.sqrt(mu/a),0] #αρχικές συνθήκες\n",
    "sol=solve_ivp(rhs_2bd,[t0,tmax],IC,\n",
    "  t_eval=np.linspace(0,tmax,N),method='DOP853',atol=1e-8,rtol=1e-12)\n",
    "yy=sol.y\n",
    "tt=sol.t\n",
    "\n",
    "#Σχεδιασμός της τροχιάς για 6000*Τ\n",
    "plt.figure()\n",
    "plt.plot(yy[0],yy[1])\n",
    "plt.xlabel(\"x(km)\")\n",
    "plt.ylabel(\"y(km)\")\n",
    "plt.gca().set_aspect('equal', adjustable='box')\n",
    "plt.xlim(-8000, 8000)\n",
    "plt.ylim(-8000, 8000)\n",
    "plt.show()"
   ]
  },
  {
   "cell_type": "markdown",
   "id": "ad64710a",
   "metadata": {},
   "source": [
    "Το error στο ύψος:"
   ]
  },
  {
   "cell_type": "code",
   "execution_count": 5,
   "id": "e6bdde4c",
   "metadata": {},
   "outputs": [
    {
     "name": "stdout",
     "output_type": "stream",
     "text": [
      "-1.8546770661487244e-06\n"
     ]
    }
   ],
   "source": [
    "def radius(x,y):\n",
    "    return np.sqrt(x**2+y**2)\n",
    "\n",
    "r1=radius(yy[1][0],yy[0][0]) #απόσταση τη χρονική στιγμή t=0\n",
    "r2=radius(yy[1][len(yy[1])-1],yy[0][len(yy[0])-1]) #απόσταση τη χρονική στιγμή t=6000*T\n",
    "er=r2-r1\n",
    "print(er)"
   ]
  },
  {
   "cell_type": "markdown",
   "id": "6611672d",
   "metadata": {},
   "source": [
    "Βλέπουμε ότι το ύψος μένει σταθερό της τάξης του $10^{-6}$ κάτι που άλλωστε φαίνεται και από την τροχιά του που μένει σταθερή "
   ]
  }
 ],
 "metadata": {
  "kernelspec": {
   "display_name": "Python 3 (ipykernel)",
   "language": "python",
   "name": "python3"
  },
  "language_info": {
   "codemirror_mode": {
    "name": "ipython",
    "version": 3
   },
   "file_extension": ".py",
   "mimetype": "text/x-python",
   "name": "python",
   "nbconvert_exporter": "python",
   "pygments_lexer": "ipython3",
   "version": "3.9.7"
  }
 },
 "nbformat": 4,
 "nbformat_minor": 5
}
